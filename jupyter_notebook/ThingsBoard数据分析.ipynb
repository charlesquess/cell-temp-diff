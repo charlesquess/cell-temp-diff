{
 "cells": [
  {
   "cell_type": "markdown",
   "source": [
    "## 初始化Api"
   ],
   "metadata": {
    "collapsed": false
   },
   "id": "9a31a503eb6e464b"
  },
  {
   "cell_type": "code",
   "source": [
    "import json\n",
    "\n",
    "import requests\n",
    "\n",
    "url = \"http://energyscene.zenergyai.com:38080/api/\"\n",
    "payload = json.dumps({\"username\": \"zenergy@zenergy.ai\", \"password\": \"ZEnergy.Ai2312\"})\n",
    "response = requests.post(f\"{url}auth/login\", data=payload)\n",
    "token = response.json()[\"token\"]"
   ],
   "metadata": {
    "collapsed": false
   },
   "id": "2c80077b1f4eff8f",
   "outputs": [],
   "execution_count": null
  },
  {
   "cell_type": "markdown",
   "source": [
    "## 时间戳转换"
   ],
   "metadata": {
    "collapsed": false
   },
   "id": "7b7ab0433aaa75ec"
  },
  {
   "cell_type": "code",
   "source": [
    "import time\n",
    "\n",
    "\n",
    "def get_datetime_stamp(datetime_str):\n",
    "    \"\"\"\n",
    "    日期时间字符串转换为时间戳\n",
    "    :param datetime_str: 日期时间字符串\n",
    "    :return: 时间戳\n",
    "    \"\"\"\n",
    "    time_array = time.strptime(datetime_str, \"%Y-%m-%d %H:%M:%S\")\n",
    "    time_stamp = int(time.mktime(time_array)) * 1000  # 转换为毫秒\n",
    "    return time_stamp"
   ],
   "metadata": {
    "collapsed": false
   },
   "id": "cc59edc14d2e8402",
   "outputs": [],
   "execution_count": null
  },
  {
   "cell_type": "markdown",
   "source": [
    "## 导入设备Id"
   ],
   "metadata": {
    "collapsed": false
   },
   "id": "68629a9ae66c015b"
  },
  {
   "cell_type": "code",
   "source": [
    "import pandas as pd\n",
    "\n",
    "device_df = pd.read_csv('../data/ThingsBoardDevice.csv')\n",
    "device_df.set_index('ProjectId', inplace=True)\n",
    "device_df"
   ],
   "metadata": {
    "collapsed": false
   },
   "id": "44bf5b446df662ec",
   "outputs": [],
   "execution_count": null
  },
  {
   "cell_type": "markdown",
   "source": [
    "## 获取数据"
   ],
   "metadata": {
    "collapsed": false
   },
   "id": "1c672658f2bb4f4d"
  },
  {
   "cell_type": "code",
   "source": [
    "# 请求参数\n",
    "device_id = device_df.loc['天辰1']['Eb-DeviceId']\n",
    "keys = \"chg,dhg,idle,err\"\n",
    "start_ts = get_datetime_stamp(\"2024-02-02 22:00:00\")\n",
    "# end_ts = get_datetime_stamp(\"2024-01-26 3:00:00\")\n",
    "end_ts = int(time.time()) * 1000 # now\n",
    "# 发出请求\n",
    "response = requests.get(\n",
    "    f\"{url}plugins/telemetry/DEVICE/{device_id}/values/timeseries\",\n",
    "    headers={\"X-Authorization\": f\"Bearer {token}\"},\n",
    "    params={\"keys\": keys.replace(\" \", \"\"),\n",
    "            \"startTs\": start_ts,\n",
    "            \"endTs\": end_ts,\n",
    "            \"interval\": 60000, \n",
    "            \"limit\": 50000, \n",
    "            \"agg\": \"NONE\"})\n",
    "json = response.json()"
   ],
   "metadata": {
    "collapsed": false
   },
   "id": "793459dc42754bc",
   "outputs": [],
   "execution_count": null
  },
  {
   "cell_type": "markdown",
   "source": [
    "## 处理原始数据"
   ],
   "metadata": {
    "collapsed": false
   },
   "id": "34e19cc3d4eb10b"
  },
  {
   "cell_type": "code",
   "source": [
    "from functools import reduce\n",
    "\n",
    "# dic列表\n",
    "dfs = []\n",
    "for key, value in json.items():\n",
    "    df = pd.DataFrame(value)\n",
    "    df['value'] = df['value'].astype(float)  # value列转换类型\n",
    "    df.rename(columns={'value': key}, inplace=True)  # 重命名列名\n",
    "    dfs.append(df)  # 添加到列表\n",
    "# 合并数据\n",
    "df = reduce(lambda x, y: pd.merge(x, y, on=\"ts\", how=\"outer\"), dfs)\n",
    "df['ts'] = pd.to_datetime(df['ts'], unit='ms', utc=True).dt.tz_convert('Asia/Shanghai')  # 转换时间戳\n",
    "df.set_index('ts', inplace=True)  # 设置索引\n",
    "df.sort_index(inplace=True)  # 按时间排序\n",
    "# df.ffill(inplace=True)  # 前向填充\n",
    "# 输出数据\n",
    "df"
   ],
   "metadata": {
    "collapsed": false
   },
   "id": "e79f245f699f03b6",
   "outputs": [],
   "execution_count": null
  },
  {
   "cell_type": "markdown",
   "source": [
    "## 绘制图表"
   ],
   "metadata": {
    "collapsed": false
   },
   "id": "601548540bd7936a"
  },
  {
   "cell_type": "code",
   "source": [
    "import plotly.graph_objects as go\n",
    "\n",
    "fig = go.Figure()\n",
    "fig.update_layout(title_text=keys)\n",
    "fig.update_xaxes(title_text='时间')\n",
    "for column in df.columns:\n",
    "    fig.add_trace(go.Scatter(x=df.index, y=df[column], mode='lines+markers', name=column))\n",
    "fig.show()"
   ],
   "metadata": {
    "collapsed": false
   },
   "id": "68b9f95115a5c6d9",
   "outputs": [],
   "execution_count": null
  },
  {
   "cell_type": "code",
   "source": [
    "import plotly.express as px\n",
    "\n",
    "px.box(df, points=\"all\")\n",
    "# px.histogram(df, nbins=100)"
   ],
   "metadata": {
    "collapsed": false
   },
   "id": "c14d2abed7364b84",
   "outputs": [],
   "execution_count": null
  }
 ],
 "metadata": {
  "kernelspec": {
   "display_name": "Python 3",
   "language": "python",
   "name": "python3"
  },
  "language_info": {
   "codemirror_mode": {
    "name": "ipython",
    "version": 2
   },
   "file_extension": ".py",
   "mimetype": "text/x-python",
   "name": "python",
   "nbconvert_exporter": "python",
   "pygments_lexer": "ipython2",
   "version": "2.7.6"
  }
 },
 "nbformat": 4,
 "nbformat_minor": 5
}

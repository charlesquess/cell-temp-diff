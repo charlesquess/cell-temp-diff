{
 "cells": [
  {
   "cell_type": "markdown",
   "id": "7ff2f409351cc2a8",
   "metadata": {
    "collapsed": false
   },
   "source": [
    "## 新电表记录数据"
   ]
  },
  {
   "cell_type": "code",
   "execution_count": null,
   "id": "1ef011c8980d6485",
   "metadata": {
    "collapsed": false
   },
   "outputs": [],
   "source": [
    "import numpy as np\n",
    "import pandas as pd\n",
    "\n",
    "new_meter = pd.read_csv('../data/扩容电表.csv')\n",
    "new_meter = new_meter[['记录日期', '反向有功总电能(kWh)', '正向有功总电能(kWh)']]\n",
    "new_meter.rename(columns={'记录日期': 'ts', '反向有功总电能(kWh)': 'chg', '正向有功总电能(kWh)': 'dhg'}, inplace=True)\n",
    "new_meter['ts'] = pd.to_datetime(new_meter['ts'])  # 转换为时间格式\n",
    "new_meter = new_meter.sort_values(by='ts', ascending=True)  # 按时间升序排列\n",
    "new_meter = new_meter.set_index('ts')  # 设置时间为索引\n",
    "new_meter"
   ]
  },
  {
   "cell_type": "markdown",
   "id": "1c95891c95c1e863",
   "metadata": {
    "collapsed": false
   },
   "source": [
    "## 按天计算谷充与峰放"
   ]
  },
  {
   "cell_type": "code",
   "execution_count": null,
   "id": "c1cefad6ef049768",
   "metadata": {
    "collapsed": false
   },
   "outputs": [],
   "source": [
    "# 构建按天分组的数据\n",
    "new_meter_daily = pd.DataFrame()\n",
    "# 获取日期列表\n",
    "date_list = sorted(set(new_meter.index.date))\n",
    "new_meter_daily['ts'] = date_list\n",
    "# chg列，当天0点-8点，谷时充电量\n",
    "chg_list = []\n",
    "for date in date_list:\n",
    "    start = new_meter.loc[f\"{date} 00:00:00\":f\"{date} 00:00:30\"]\n",
    "    end = new_meter.loc[f\"{date} 08:00:00\":f\"{date} 08:00:30\"]\n",
    "    if start.empty or end.empty:\n",
    "        chg_list.append(0)\n",
    "        continue\n",
    "    else:\n",
    "        chg_list.append(end['chg'].values[0] - start['chg'].values[0])\n",
    "new_meter_daily['chg'] = chg_list\n",
    "# dhg列，当天17点-22点，峰时放电量\n",
    "dhg_list = []\n",
    "for date in date_list:\n",
    "    start = new_meter.loc[f\"{date} 17:00:00\":f\"{date} 17:00:30\"]\n",
    "    end = new_meter.loc[f\"{date} 22:00:00\":f\"{date} 22:00:30\"]\n",
    "    if start.empty or end.empty:\n",
    "        dhg_list.append(0)\n",
    "        continue\n",
    "    else:\n",
    "        dhg_list.append(end['dhg'].values[0] - start['dhg'].values[0])\n",
    "new_meter_daily['dhg'] = dhg_list\n",
    "# 处理数据\n",
    "new_meter_daily"
   ]
  },
  {
   "cell_type": "markdown",
   "id": "cdadadba53c243aa",
   "metadata": {
    "collapsed": false
   },
   "source": [
    "## 扩容电池的衰减"
   ]
  },
  {
   "cell_type": "code",
   "execution_count": null,
   "id": "a255b5758824ac8b",
   "metadata": {
    "collapsed": false
   },
   "outputs": [],
   "source": [
    "import plotly.graph_objs as go\n",
    "\n",
    "# 添加等效容量列\n",
    "new_meter_daily['capacity'] = np.sqrt(new_meter_daily['chg'] * new_meter_daily['dhg'])\n",
    "# 获取初始与当前容量\n",
    "initial = new_meter_daily.head(10).sort_values(by=\"capacity\", ascending=False).iloc[0]\n",
    "current = new_meter_daily.tail(10).sort_values(by=\"capacity\", ascending=False).iloc[0]\n",
    "# 计算衰减\n",
    "attenuation = round((1 - current[\"capacity\"] / initial[\"capacity\"]) * 100, 2)\n",
    "# 绘图\n",
    "fig = go.Figure()\n",
    "fig.update_layout(title=f\"扩容电池衰减{attenuation}%\")\n",
    "fig.add_trace(go.Scatter(x=new_meter_daily['ts'], y=new_meter_daily['capacity'], mode='markers'))\n",
    "fig.add_trace(\n",
    "    go.Scatter(x=[initial['ts'], current['ts']], y=[initial['capacity'], current['capacity']], mode='markers+lines'))\n",
    "fig.show()"
   ]
  },
  {
   "cell_type": "markdown",
   "id": "9e47a7c2467c83e6",
   "metadata": {
    "collapsed": false
   },
   "source": [
    "## 初始化数据库"
   ]
  },
  {
   "cell_type": "code",
   "execution_count": 1,
   "id": "e02cf02845477eb1",
   "metadata": {
    "collapsed": false
   },
   "outputs": [],
   "source": [
    "from sqlalchemy import create_engine\n",
    "\n",
    "# 初始化数据库连接\n",
    "host = \"3.3.9.113\"\n",
    "port = \"3306\"\n",
    "database = \"EbPackTemp\"\n",
    "user = \"root\"\n",
    "password = \"0\"\n",
    "engine = create_engine(f\"mysql+pymysql://{user}:{password}@{host}:{port}/{database}\")"
   ]
  },
  {
   "cell_type": "markdown",
   "id": "5cf2cf04d543089",
   "metadata": {
    "collapsed": false
   },
   "source": [
    "## 每日充放电量修正"
   ]
  },
  {
   "cell_type": "code",
   "execution_count": null,
   "id": "96a7cc3170a99e71",
   "metadata": {
    "collapsed": false
   },
   "outputs": [],
   "source": [
    "# from sqlalchemy import text\n",
    "# \n",
    "# connection = engine.connect()\n",
    "# with connection.begin() as trans:\n",
    "#     # 遍历更新\n",
    "#     for row in new_meter_daily.iterrows():\n",
    "#         ts = row[1]['ts']\n",
    "#         chg = row[1]['chg']\n",
    "#         dhg = row[1]['dhg']\n",
    "#         # 执行更新\n",
    "#         sql = f\"update tc1_electric_quantity_day set valleye_sum_chg=valleye_sum_chg-{chg}, peake2_sum_dhg=peake2_sum_dhg-{dhg} where datetime='{ts}';\"\n",
    "#         connection.execute(text(sql))\n",
    "#         print(f\"更新{ts}数据成功\")\n",
    "#     # 提交事务\n",
    "#     trans.commit()\n",
    "# connection.close()"
   ]
  }
 ],
 "metadata": {
  "kernelspec": {
   "display_name": "Python 3",
   "language": "python",
   "name": "python3"
  },
  "language_info": {
   "codemirror_mode": {
    "name": "ipython",
    "version": 3
   },
   "file_extension": ".py",
   "mimetype": "text/x-python",
   "name": "python",
   "nbconvert_exporter": "python",
   "pygments_lexer": "ipython3",
   "version": "3.12.3"
  }
 },
 "nbformat": 4,
 "nbformat_minor": 5
}

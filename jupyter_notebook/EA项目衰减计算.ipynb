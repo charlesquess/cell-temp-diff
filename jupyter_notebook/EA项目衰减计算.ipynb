{
 "cells": [
  {
   "cell_type": "markdown",
   "id": "44a3d841325116f1",
   "metadata": {
    "collapsed": false
   },
   "source": [
    "## 连接数据库"
   ]
  },
  {
   "cell_type": "code",
   "execution_count": 1,
   "id": "c2a4f560e3f81b18",
   "metadata": {
    "collapsed": false
   },
   "outputs": [],
   "source": [
    "from sqlalchemy import create_engine\n",
    "\n",
    "# 初始化数据库连接\n",
    "host = \"ea-tariff-db.cgnuriesxcg4.rds.cn-northwest-1.amazonaws.com.cn\"\n",
    "port = \"3306\"\n",
    "database = \"wx_tc_database\"\n",
    "user = \"admin\"\n",
    "password = \"zenergyai\"\n",
    "engine = create_engine(f\"mysql+pymysql://{user}:{password}@{host}:{port}/{database}\")"
   ]
  },
  {
   "cell_type": "markdown",
   "id": "32e3e5ea13dfb611",
   "metadata": {
    "collapsed": false
   },
   "source": [
    "## 查询原始数据"
   ]
  },
  {
   "cell_type": "code",
   "execution_count": 2,
   "id": "cbad85824c2e2b32",
   "metadata": {
    "collapsed": false
   },
   "outputs": [],
   "source": [
    "import pandas as pd\n",
    "\n",
    "df = pd.read_sql_query(\n",
    "    \"select datetime as ts, valleye_sum_chg as chg, peake2_sum_dhg as dhg from tc1_electric_quantity_day;\",\n",
    "    engine)\n",
    "df = df[(df[\"chg\"] >= 0) & (df[\"dhg\"] >= 0)]"
   ]
  },
  {
   "cell_type": "markdown",
   "id": "8ce8c025992b2151",
   "metadata": {
    "collapsed": false
   },
   "source": [
    "## 衰减信息"
   ]
  },
  {
   "cell_type": "code",
   "execution_count": null,
   "id": "7e0fd9883cbb51ef",
   "metadata": {
    "collapsed": false
   },
   "outputs": [],
   "source": [
    "import numpy as np\n",
    "\n",
    "df.set_index('ts', inplace=True)  # 设置索引\n",
    "df.sort_index(inplace=True)  # 按时间排序\n",
    "df[\"capacity\"] = np.sqrt(df[\"chg\"] * df[\"dhg\"])  # 添加等效容量列\n",
    "df"
   ]
  },
  {
   "cell_type": "code",
   "execution_count": null,
   "id": "5b194986ca35d09",
   "metadata": {
    "collapsed": false
   },
   "outputs": [],
   "source": [
    "initial = df.head(30).sort_values(by=\"capacity\", ascending=False).iloc[0]\n",
    "current = df.tail(30).sort_values(by=\"capacity\", ascending=False).iloc[0]\n",
    "attenuation = round((1 - current[\"capacity\"] / initial[\"capacity\"]) * 100, 2)\n",
    "print(f\"初始容量：{initial['capacity']}，出现时间：{initial.name}\")\n",
    "print(f\"当前容量：{current['capacity']}，出现时间：{current.name}\")\n",
    "print(f\"衰减率：{attenuation}%\")"
   ]
  },
  {
   "cell_type": "markdown",
   "id": "d2b365e4392a3bd6",
   "metadata": {
    "collapsed": false
   },
   "source": [
    "## 循环次数"
   ]
  },
  {
   "cell_type": "code",
   "execution_count": null,
   "id": "d8c28b0dc359f1f0",
   "metadata": {
    "collapsed": false
   },
   "outputs": [],
   "source": [
    "running_days = len(df)\n",
    "print(f\"运行天数：{running_days}天\")\n",
    "loop_times = running_days * 2\n",
    "print(f\"循环次数：{loop_times}次\")"
   ]
  },
  {
   "cell_type": "markdown",
   "id": "78308a35d035ec62",
   "metadata": {
    "collapsed": false
   },
   "source": [
    "## 绘制图表"
   ]
  },
  {
   "cell_type": "code",
   "execution_count": null,
   "id": "14523ecce53a43d7",
   "metadata": {
    "collapsed": false
   },
   "outputs": [],
   "source": [
    "import plotly.graph_objects as go\n",
    "\n",
    "fig = go.Figure()\n",
    "fig.update_layout(title=f\"项目等效容量  衰减率：{attenuation}%，运行天数：{running_days}天，循环次数：{loop_times}次\")\n",
    "fig.add_trace(go.Scatter(x=df.index, y=df[\"capacity\"], name=\"等效容量\", mode='markers'))\n",
    "fig.add_trace(go.Scatter(\n",
    "    x=[initial.name, current.name], y=[initial[\"capacity\"], current[\"capacity\"]], name=\"衰减率\",\n",
    "    mode=\"lines+markers\", marker=dict(color=\"orange\", size=10)))\n",
    "fig.show()"
   ]
  }
 ],
 "metadata": {
  "kernelspec": {
   "display_name": "Python 3",
   "language": "python",
   "name": "python3"
  },
  "language_info": {
   "codemirror_mode": {
    "name": "ipython",
    "version": 3
   },
   "file_extension": ".py",
   "mimetype": "text/x-python",
   "name": "python",
   "nbconvert_exporter": "python",
   "pygments_lexer": "ipython3",
   "version": "3.12.3"
  }
 },
 "nbformat": 4,
 "nbformat_minor": 5
}

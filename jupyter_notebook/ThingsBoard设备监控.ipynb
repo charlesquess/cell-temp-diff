{
 "cells": [
  {
   "cell_type": "markdown",
   "id": "dc04183fbf34d5ec",
   "metadata": {
    "collapsed": false
   },
   "source": [
    "## 初始化Api"
   ]
  },
  {
   "cell_type": "code",
   "execution_count": null,
   "id": "bc3ddea74a1efb7e",
   "metadata": {
    "collapsed": false
   },
   "outputs": [],
   "source": [
    "import json\n",
    "\n",
    "import requests\n",
    "\n",
    "url = \"http://energyscene.zenergyai.com:38080/api/\"\n",
    "payload = json.dumps({\"username\": \"zenergy@zenergy.ai\", \"password\": \"ZEnergy.Ai2312\"})\n",
    "response = requests.post(f\"{url}auth/login\", data=payload)\n",
    "token = response.json()[\"token\"]"
   ]
  },
  {
   "cell_type": "markdown",
   "id": "ff4933e074023462",
   "metadata": {
    "collapsed": false
   },
   "source": [
    "## 导入设备"
   ]
  },
  {
   "cell_type": "code",
   "execution_count": null,
   "id": "251208e220da29ae",
   "metadata": {
    "collapsed": false
   },
   "outputs": [],
   "source": [
    "import pandas as pd\n",
    "\n",
    "df = pd.read_csv('../data/ThingsBoardDevice.csv')\n",
    "df.set_index('ProjectId', inplace=True)\n",
    "df"
   ]
  },
  {
   "cell_type": "markdown",
   "id": "e313717a0ac3bf91",
   "metadata": {
    "collapsed": false
   },
   "source": [
    "## 获取服务端属性"
   ]
  },
  {
   "cell_type": "code",
   "execution_count": null,
   "id": "a21fc93f1a0c0f7",
   "metadata": {
    "collapsed": false
   },
   "outputs": [],
   "source": [
    "def get_attribute(device_id: str, key: str) -> str:\n",
    "    \"\"\"\n",
    "    获取属性\n",
    "    :param device_id: 设备ID\n",
    "    :param key: 属性键\n",
    "    :return: 属性值\n",
    "    \"\"\"\n",
    "    entity_type = \"DEVICE\"\n",
    "    attribute_response = requests.get(\n",
    "        f\"{url}plugins/telemetry/{entity_type}/{device_id}/values/attributes?keys={key}\",\n",
    "        headers={\"X-Authorization\": f\"Bearer {token}\"})\n",
    "    return attribute_response.json()[0][\"value\"]"
   ]
  },
  {
   "cell_type": "markdown",
   "id": "57dcd2cc375240b9",
   "metadata": {
    "collapsed": false
   },
   "source": [
    "## 获取设备属性"
   ]
  },
  {
   "cell_type": "code",
   "execution_count": null,
   "id": "42a7cf65edc2c700",
   "metadata": {
    "collapsed": false
   },
   "outputs": [],
   "source": [
    "# 获取服务端属性\n",
    "df['Eb-Active'] = df['Eb-DeviceId'].apply(lambda x: get_attribute(x, 'active'))\n",
    "df['Eb-LastActivityTime'] = df['Eb-DeviceId'].apply(lambda x: get_attribute(x, 'lastActivityTime'))\n",
    "df['Ew-Active'] = df['Ew-DeviceId'].apply(lambda x: get_attribute(x, 'active'))\n",
    "df['Ew-LastActivityTime'] = df['Ew-DeviceId'].apply(lambda x: get_attribute(x, 'lastActivityTime'))\n",
    "# 转换时间\n",
    "df['Eb-LastActivityTime'] = (pd.to_datetime(df['Eb-LastActivityTime'], unit='ms', utc=True)\n",
    "                             .dt.tz_convert('Asia/Shanghai'))\n",
    "df['Ew-LastActivityTime'] = (pd.to_datetime(df['Ew-LastActivityTime'], unit='ms', utc=True)\n",
    "                             .dt.tz_convert('Asia/Shanghai'))\n",
    "# 列排序\n",
    "df = df[['Eb-Active', 'Ew-Active', 'Eb-LastActivityTime', 'Ew-LastActivityTime', 'Eb-DeviceId', 'Ew-DeviceId']]\n",
    "df = df.sort_values(by=['Eb-Active', 'Ew-Active'], ascending=True)\n",
    "df"
   ]
  },
  {
   "cell_type": "markdown",
   "id": "5ac272099acad10e",
   "metadata": {
    "collapsed": false
   },
   "source": [
    "## 统计"
   ]
  },
  {
   "cell_type": "code",
   "execution_count": null,
   "id": "c32a34dd2b87fde5",
   "metadata": {
    "collapsed": false
   },
   "outputs": [],
   "source": [
    "from plotly.subplots import make_subplots\n",
    "import plotly.graph_objs as go\n",
    "\n",
    "# 统计在线离线数量\n",
    "eb_offline_count = df[df['Eb-Active'] == False].shape[0]\n",
    "eb_online_count = df[df['Eb-Active'] == True].shape[0]\n",
    "ew_offline_count = df[df['Ew-Active'] == False].shape[0]\n",
    "ew_online_count = df[df['Ew-Active'] == True].shape[0]\n",
    "# 绘制饼图\n",
    "fig = make_subplots(rows=1, cols=2, subplot_titles=(\"EB\", \"EW\"), specs=[[{\"type\": \"domain\"}, {\"type\": \"domain\"}]])\n",
    "fig.add_trace(go.Pie(labels=[\"在线\", \"离线\"], values=[eb_online_count, eb_offline_count], name=\"EB\"), 1, 1)\n",
    "fig.add_trace(go.Pie(labels=[\"在线\", \"离线\"], values=[ew_online_count, ew_offline_count], name=\"EW\"), 1, 2)\n",
    "fig.show()"
   ]
  }
 ],
 "metadata": {
  "kernelspec": {
   "display_name": "Python 3",
   "language": "python",
   "name": "python3"
  },
  "language_info": {
   "codemirror_mode": {
    "name": "ipython",
    "version": 2
   },
   "file_extension": ".py",
   "mimetype": "text/x-python",
   "name": "python",
   "nbconvert_exporter": "python",
   "pygments_lexer": "ipython2",
   "version": "3.12.3"
  }
 },
 "nbformat": 4,
 "nbformat_minor": 5
}

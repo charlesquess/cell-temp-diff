{
 "cells": [
  {
   "metadata": {},
   "cell_type": "code",
   "source": [
    "import os\n",
    "\n",
    "source_dir = '../temp/天辰2/source'\n",
    "target_dir = '../temp/天辰2/target'\n",
    "if os.path.exists(target_dir):\n",
    "    os.system(f'powershell rm -r {target_dir}')\n",
    "if not os.path.exists(target_dir):\n",
    "    os.makedirs(target_dir)\n",
    "# 获取source_dir目录下的所有.zip文件\n",
    "zip_files = [f for f in os.listdir(source_dir) if f.endswith('.zip')]\n",
    "# 解压.zip文件\n",
    "for zip_file in zip_files:\n",
    "    zip_name = zip_file.split('.')[0]  # 获取文件名\n",
    "    zip_file_path = os.path.join(source_dir, zip_file)  # 获取文件路径\n",
    "    os.system(f'powershell Expand-Archive -Path {zip_file_path} -DestinationPath {source_dir}')  # 解压文件\n",
    "    child_dir = os.path.join(source_dir, 'data', 'snap', 'base1', zip_name)  # 获取解压后的子目录\n",
    "    # 检查目录是否存在\n",
    "    if not os.path.exists(child_dir):\n",
    "        print(f'{child_dir} 不存在')\n",
    "        continue\n",
    "    # 获取子目录下的目录\n",
    "    data_dir_list = os.listdir(child_dir)\n",
    "    if len(data_dir_list) == 0:\n",
    "        print(f'{child_dir} 为空')\n",
    "        continue\n",
    "    data_dir_path = os.path.join(child_dir, data_dir_list[0])  # 获取子目录下的第一个目录\n",
    "    os.system(f'powershell cp -r {data_dir_path} {target_dir}/{zip_name}')  # 复制并重命名\n",
    "    os.system(f'powershell rm -r {os.path.join(source_dir, 'data')}')  # 删除解压后的目录\n",
    "    print(f'处理完成: {data_dir_path} -> {target_dir}/{zip_name}')"
   ],
   "id": "9f11aabde293404b",
   "outputs": [],
   "execution_count": null
  }
 ],
 "metadata": {
  "kernelspec": {
   "display_name": "Python 3",
   "language": "python",
   "name": "python3"
  },
  "language_info": {
   "codemirror_mode": {
    "name": "ipython",
    "version": 2
   },
   "file_extension": ".py",
   "mimetype": "text/x-python",
   "name": "python",
   "nbconvert_exporter": "python",
   "pygments_lexer": "ipython2",
   "version": "2.7.6"
  }
 },
 "nbformat": 4,
 "nbformat_minor": 5
}
